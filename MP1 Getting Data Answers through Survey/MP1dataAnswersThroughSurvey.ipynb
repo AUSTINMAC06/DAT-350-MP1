{
 "cells": [
  {
   "cell_type": "code",
   "execution_count": 2,
   "metadata": {},
   "outputs": [],
   "source": [
    "import pandas as pd"
   ]
  },
  {
   "cell_type": "markdown",
   "metadata": {},
   "source": [
    "Q1: What is the percentage \"Gender?\""
   ]
  },
  {
   "cell_type": "code",
   "execution_count": 3,
   "metadata": {},
   "outputs": [],
   "source": [
    "rawSportsBettingDF = pd.read_csv(\"sportsBettingSurvey.csv\")"
   ]
  },
  {
   "cell_type": "code",
   "execution_count": 4,
   "metadata": {},
   "outputs": [
    {
     "data": {
      "text/plain": [
       "1.0"
      ]
     },
     "execution_count": 4,
     "metadata": {},
     "output_type": "execute_result"
    }
   ],
   "source": [
    "# Percentage Male\n",
    "lengthRawSportsBettingDF = len(rawSportsBettingDF)\n",
    "maleDF = (rawSportsBettingDF[\"Gender?\"] == \"Male\").sum()\n",
    "maleDF/lengthRawSportsBettingDF"
   ]
  },
  {
   "cell_type": "code",
   "execution_count": 5,
   "metadata": {},
   "outputs": [
    {
     "data": {
      "text/plain": [
       "0.0"
      ]
     },
     "execution_count": 5,
     "metadata": {},
     "output_type": "execute_result"
    }
   ],
   "source": [
    "# Percentage Female\n",
    "femaleDF = (rawSportsBettingDF[\"Gender?\"] == \"Female\").sum()\n",
    "femaleDF/lengthRawSportsBettingDF"
   ]
  },
  {
   "cell_type": "code",
   "execution_count": 6,
   "metadata": {},
   "outputs": [
    {
     "data": {
      "text/plain": [
       "0.0"
      ]
     },
     "execution_count": 6,
     "metadata": {},
     "output_type": "execute_result"
    }
   ],
   "source": [
    "# Percentage Transgender Male\n",
    "transgenderMaleDF = (rawSportsBettingDF[\"Gender?\"] == \"Transgender Male\").sum()\n",
    "transgenderMaleDF/lengthRawSportsBettingDF"
   ]
  },
  {
   "cell_type": "code",
   "execution_count": 7,
   "metadata": {},
   "outputs": [
    {
     "data": {
      "text/plain": [
       "0.0"
      ]
     },
     "execution_count": 7,
     "metadata": {},
     "output_type": "execute_result"
    }
   ],
   "source": [
    "# Percentage Transgender Female \n",
    "transgenderFemaleDF = (rawSportsBettingDF[\"Gender?\"] == \"Transgender Female\").sum()\n",
    "transgenderFemaleDF/lengthRawSportsBettingDF"
   ]
  },
  {
   "cell_type": "code",
   "execution_count": 8,
   "metadata": {},
   "outputs": [
    {
     "data": {
      "text/plain": [
       "0.0"
      ]
     },
     "execution_count": 8,
     "metadata": {},
     "output_type": "execute_result"
    }
   ],
   "source": [
    "# Percentage Non-Binary\n",
    "nonBinaryDF = (rawSportsBettingDF[\"Gender?\"] == \"Non-Binary\").sum()\n",
    "nonBinaryDF/lengthRawSportsBettingDF"
   ]
  },
  {
   "cell_type": "markdown",
   "metadata": {},
   "source": [
    "A1: \n",
    "- 100% of my respondents were male\n",
    "- 0% of my respondents were female\n",
    "- 0% of my respondents were transgender male\n",
    "- 0% of my respondents were transgender female\n",
    "- 0% of my respondents were non-binary"
   ]
  },
  {
   "cell_type": "markdown",
   "metadata": {},
   "source": [
    "Q2: What is the percentage of \"What year are you?\""
   ]
  },
  {
   "cell_type": "code",
   "execution_count": 9,
   "metadata": {},
   "outputs": [
    {
     "data": {
      "text/plain": [
       "0.0"
      ]
     },
     "execution_count": 9,
     "metadata": {},
     "output_type": "execute_result"
    }
   ],
   "source": [
    "# Percentage of Freshmen\n",
    "freshmenDF = (rawSportsBettingDF[\"What year are you?\"] == \"Freshman\").sum()\n",
    "freshmenDF/lengthRawSportsBettingDF"
   ]
  },
  {
   "cell_type": "code",
   "execution_count": 10,
   "metadata": {},
   "outputs": [
    {
     "data": {
      "text/plain": [
       "0.0"
      ]
     },
     "execution_count": 10,
     "metadata": {},
     "output_type": "execute_result"
    }
   ],
   "source": [
    "# Percentage of Sophomore\n",
    "sophomoreDF = (rawSportsBettingDF[\"What year are you?\"] == \"Sophomore\").sum()\n",
    "sophomoreDF/lengthRawSportsBettingDF"
   ]
  },
  {
   "cell_type": "code",
   "execution_count": 11,
   "metadata": {},
   "outputs": [
    {
     "data": {
      "text/plain": [
       "0.8"
      ]
     },
     "execution_count": 11,
     "metadata": {},
     "output_type": "execute_result"
    }
   ],
   "source": [
    "# Percentage of Juniors\n",
    "juniorDF = (rawSportsBettingDF[\"What year are you?\"] == \"Junior\").sum()\n",
    "juniorDF/lengthRawSportsBettingDF"
   ]
  },
  {
   "cell_type": "code",
   "execution_count": 12,
   "metadata": {},
   "outputs": [
    {
     "data": {
      "text/plain": [
       "0.2"
      ]
     },
     "execution_count": 12,
     "metadata": {},
     "output_type": "execute_result"
    }
   ],
   "source": [
    "# Percentage of Seniors\n",
    "seniorDF = (rawSportsBettingDF[\"What year are you?\"] == \"Senior\").sum()\n",
    "seniorDF/lengthRawSportsBettingDF"
   ]
  },
  {
   "cell_type": "code",
   "execution_count": 13,
   "metadata": {},
   "outputs": [
    {
     "data": {
      "text/plain": [
       "0.0"
      ]
     },
     "execution_count": 13,
     "metadata": {},
     "output_type": "execute_result"
    }
   ],
   "source": [
    "# Percentage of Staff\n",
    "staffDF = (rawSportsBettingDF[\"What year are you?\"] == \"Staff\").sum()\n",
    "staffDF/lengthRawSportsBettingDF"
   ]
  },
  {
   "cell_type": "markdown",
   "metadata": {},
   "source": [
    "- 0% of the respondents were freshmen\n",
    "- 0% of the respondents were sophomores\n",
    "- 80% of the respondents were juniors \n",
    "- 20% of the respondents were seniors\n",
    "- 0% of the respodnents were staff "
   ]
  },
  {
   "cell_type": "markdown",
   "metadata": {},
   "source": [
    "Q3: Percentage of \"What is your monthly income?\""
   ]
  },
  {
   "cell_type": "code",
   "execution_count": 14,
   "metadata": {},
   "outputs": [
    {
     "data": {
      "text/plain": [
       "0.4"
      ]
     },
     "execution_count": 14,
     "metadata": {},
     "output_type": "execute_result"
    }
   ],
   "source": [
    "# Percentage of $0-$100\n",
    "zeroToHundredDF = (rawSportsBettingDF[\"What is your monthly income?\"] == \"0 - $100\").sum()\n",
    "zeroToHundredDF/lengthRawSportsBettingDF"
   ]
  },
  {
   "cell_type": "code",
   "execution_count": 15,
   "metadata": {},
   "outputs": [
    {
     "data": {
      "text/plain": [
       "0.1"
      ]
     },
     "execution_count": 15,
     "metadata": {},
     "output_type": "execute_result"
    }
   ],
   "source": [
    "# Percentage of $100-$250\n",
    "hundredToTwoFiftyDF = (rawSportsBettingDF[\"What is your monthly income?\"] == \"$100 - $250\").sum()\n",
    "hundredToTwoFiftyDF/lengthRawSportsBettingDF"
   ]
  },
  {
   "cell_type": "code",
   "execution_count": 16,
   "metadata": {},
   "outputs": [
    {
     "data": {
      "text/plain": [
       "0.4"
      ]
     },
     "execution_count": 16,
     "metadata": {},
     "output_type": "execute_result"
    }
   ],
   "source": [
    "# Percentage of $250-$500\n",
    "twoFiftyToFiveHundredDF = (rawSportsBettingDF[\"What is your monthly income?\"] == \"$250 - $500\").sum()\n",
    "twoFiftyToFiveHundredDF/lengthRawSportsBettingDF"
   ]
  },
  {
   "cell_type": "code",
   "execution_count": 17,
   "metadata": {},
   "outputs": [
    {
     "data": {
      "text/plain": [
       "0.1"
      ]
     },
     "execution_count": 17,
     "metadata": {},
     "output_type": "execute_result"
    }
   ],
   "source": [
    "# Percentage of $500-$750\n",
    "fiveHundredToSevenFiftyDF = (rawSportsBettingDF[\"What is your monthly income?\"] == \"$500 - $750\").sum()\n",
    "fiveHundredToSevenFiftyDF/lengthRawSportsBettingDF"
   ]
  },
  {
   "cell_type": "code",
   "execution_count": 18,
   "metadata": {},
   "outputs": [
    {
     "data": {
      "text/plain": [
       "0.0"
      ]
     },
     "execution_count": 18,
     "metadata": {},
     "output_type": "execute_result"
    }
   ],
   "source": [
    "# Percentage of $750-$1000\n",
    "sevenFiftyToThousandDF = (rawSportsBettingDF[\"What is your monthly income?\"] == \"$750 - $1,000\").sum()\n",
    "sevenFiftyToThousandDF/lengthRawSportsBettingDF"
   ]
  },
  {
   "cell_type": "code",
   "execution_count": 19,
   "metadata": {},
   "outputs": [
    {
     "data": {
      "text/plain": [
       "0.0"
      ]
     },
     "execution_count": 19,
     "metadata": {},
     "output_type": "execute_result"
    }
   ],
   "source": [
    "# Percentage of $1000+\n",
    "thousandPlusDF = (rawSportsBettingDF[\"What is your monthly income?\"] == \"$1,000+\").sum()\n",
    "thousandPlusDF/lengthRawSportsBettingDF"
   ]
  },
  {
   "cell_type": "markdown",
   "metadata": {},
   "source": [
    "A3: \n",
    "- 40% had a monthly income between 0 and $100\n",
    "- 10% had a monthly income between $100 and $250\n",
    "- 40% had a monthly income between $250 and $500\n",
    "- 10% had a monthly income between $500 and $750\n",
    "- 0% had a monthly income between $750 and $1000\n",
    "- 0% had a monthly income of $1000+"
   ]
  },
  {
   "cell_type": "markdown",
   "metadata": {},
   "source": [
    "Q4: What is the percentage of \"What sport are you most confident in betting on?\""
   ]
  },
  {
   "cell_type": "code",
   "execution_count": 20,
   "metadata": {},
   "outputs": [
    {
     "data": {
      "text/plain": [
       "0.0"
      ]
     },
     "execution_count": 20,
     "metadata": {},
     "output_type": "execute_result"
    }
   ],
   "source": [
    "# Percentage of Baseball\n",
    "baseballDF = (rawSportsBettingDF[\"What sport are you most confident in betting on?\"] == \"Baseball\").sum()\n",
    "baseballDF/lengthRawSportsBettingDF"
   ]
  },
  {
   "cell_type": "code",
   "execution_count": 21,
   "metadata": {},
   "outputs": [
    {
     "data": {
      "text/plain": [
       "0.0"
      ]
     },
     "execution_count": 21,
     "metadata": {},
     "output_type": "execute_result"
    }
   ],
   "source": [
    "# Percentage of College Basketball\n",
    "collegeBasketballDF = (rawSportsBettingDF[\"What sport are you most confident in betting on?\"] == \"College Basketball\").sum()\n",
    "collegeBasketballDF/lengthRawSportsBettingDF"
   ]
  },
  {
   "cell_type": "code",
   "execution_count": 22,
   "metadata": {},
   "outputs": [
    {
     "data": {
      "text/plain": [
       "0.5"
      ]
     },
     "execution_count": 22,
     "metadata": {},
     "output_type": "execute_result"
    }
   ],
   "source": [
    "# Percentage of Pro Basketball\n",
    "proBasketballDF = (rawSportsBettingDF[\"What sport are you most confident in betting on?\"] == \"Pro Basketball\").sum()\n",
    "proBasketballDF/lengthRawSportsBettingDF"
   ]
  },
  {
   "cell_type": "code",
   "execution_count": 23,
   "metadata": {},
   "outputs": [
    {
     "data": {
      "text/plain": [
       "0.1"
      ]
     },
     "execution_count": 23,
     "metadata": {},
     "output_type": "execute_result"
    }
   ],
   "source": [
    "# Percentage of College Football\n",
    "collegeFootballDF = (rawSportsBettingDF[\"What sport are you most confident in betting on?\"] == \"College Football\").sum()\n",
    "collegeFootballDF/lengthRawSportsBettingDF"
   ]
  },
  {
   "cell_type": "code",
   "execution_count": 24,
   "metadata": {},
   "outputs": [
    {
     "data": {
      "text/plain": [
       "0.3"
      ]
     },
     "execution_count": 24,
     "metadata": {},
     "output_type": "execute_result"
    }
   ],
   "source": [
    "# Percentage of Pro Football\n",
    "proFootballDF = (rawSportsBettingDF[\"What sport are you most confident in betting on?\"] == \"Pro Football\").sum()\n",
    "proFootballDF/lengthRawSportsBettingDF"
   ]
  },
  {
   "cell_type": "code",
   "execution_count": 25,
   "metadata": {},
   "outputs": [
    {
     "data": {
      "text/plain": [
       "0.0"
      ]
     },
     "execution_count": 25,
     "metadata": {},
     "output_type": "execute_result"
    }
   ],
   "source": [
    "# Percentage of Hockey \n",
    "hockeyDF = (rawSportsBettingDF[\"What sport are you most confident in betting on?\"] == \"Hockey\").sum()\n",
    "hockeyDF/lengthRawSportsBettingDF"
   ]
  },
  {
   "cell_type": "code",
   "execution_count": 26,
   "metadata": {},
   "outputs": [
    {
     "data": {
      "text/plain": [
       "0.0"
      ]
     },
     "execution_count": 26,
     "metadata": {},
     "output_type": "execute_result"
    }
   ],
   "source": [
    "# Percentage of Racing\n",
    "racingDF = (rawSportsBettingDF[\"What sport are you most confident in betting on?\"] == \"Hockey\").sum()\n",
    "racingDF/lengthRawSportsBettingDF"
   ]
  },
  {
   "cell_type": "code",
   "execution_count": 27,
   "metadata": {},
   "outputs": [
    {
     "data": {
      "text/plain": [
       "0.0"
      ]
     },
     "execution_count": 27,
     "metadata": {},
     "output_type": "execute_result"
    }
   ],
   "source": [
    "# Percentage of UFC\n",
    "ufcDF = (rawSportsBettingDF[\"What sport are you most confident in betting on?\"] == \"UFC\").sum()\n",
    "ufcDF/lengthRawSportsBettingDF"
   ]
  },
  {
   "cell_type": "code",
   "execution_count": 28,
   "metadata": {},
   "outputs": [
    {
     "data": {
      "text/plain": [
       "0.1"
      ]
     },
     "execution_count": 28,
     "metadata": {},
     "output_type": "execute_result"
    }
   ],
   "source": [
    "# Percentage of Golf\n",
    "golfDF = (rawSportsBettingDF[\"What sport are you most confident in betting on?\"] == \"golf\").sum()\n",
    "golfDF/lengthRawSportsBettingDF"
   ]
  },
  {
   "cell_type": "markdown",
   "metadata": {},
   "source": [
    "A4:\n",
    "- 0% chose baseball as their most confident sport to bet on\n",
    "- 0% chose college basketball as their most confident sport to bet on\n",
    "- 50% chose pro basketball as their most confident sport to bet on\n",
    "- 10% chose college football as their most confident sport to bet on\n",
    "- 30% chose pro football as their most confident sport to bet on\n",
    "- 0% chose hockey as their most confident sport to bet on\n",
    "- 0% chose racing as their most confident sport to bet on\n",
    "- 0% chose UFCl as their most confident sport to bet on\n",
    "- 10% chose golf as their most confident sport to bet on"
   ]
  },
  {
   "cell_type": "markdown",
   "metadata": {},
   "source": [
    "Q5:What is the percentage of the number of times a person bet on the chosen sport in a given week?"
   ]
  },
  {
   "cell_type": "code",
   "execution_count": 29,
   "metadata": {},
   "outputs": [
    {
     "data": {
      "text/plain": [
       "0.3"
      ]
     },
     "execution_count": 29,
     "metadata": {},
     "output_type": "execute_result"
    }
   ],
   "source": [
    "# Percentage of 1 a week \n",
    "oneDayDF = (rawSportsBettingDF[\"How many times a week do you bet on that sport?\"] == 1).sum()\n",
    "oneDayDF/lengthRawSportsBettingDF"
   ]
  },
  {
   "cell_type": "code",
   "execution_count": 30,
   "metadata": {},
   "outputs": [
    {
     "data": {
      "text/plain": [
       "0.1"
      ]
     },
     "execution_count": 30,
     "metadata": {},
     "output_type": "execute_result"
    }
   ],
   "source": [
    "# Percentage of 2 a week\n",
    "twoDaysDF = (rawSportsBettingDF[\"How many times a week do you bet on that sport?\"] == 2).sum()\n",
    "twoDaysDF/lengthRawSportsBettingDF"
   ]
  },
  {
   "cell_type": "code",
   "execution_count": 31,
   "metadata": {},
   "outputs": [
    {
     "data": {
      "text/plain": [
       "0.3"
      ]
     },
     "execution_count": 31,
     "metadata": {},
     "output_type": "execute_result"
    }
   ],
   "source": [
    "# Percentage of 3 a week\n",
    "threeDaysDF = (rawSportsBettingDF[\"How many times a week do you bet on that sport?\"] == 3).sum()\n",
    "threeDaysDF/lengthRawSportsBettingDF"
   ]
  },
  {
   "cell_type": "code",
   "execution_count": 32,
   "metadata": {},
   "outputs": [
    {
     "data": {
      "text/plain": [
       "0.2"
      ]
     },
     "execution_count": 32,
     "metadata": {},
     "output_type": "execute_result"
    }
   ],
   "source": [
    "# Percentage of 4 a week\n",
    "fourDaysDF = (rawSportsBettingDF[\"How many times a week do you bet on that sport?\"] == 4).sum()\n",
    "fourDaysDF/lengthRawSportsBettingDF"
   ]
  },
  {
   "cell_type": "code",
   "execution_count": 33,
   "metadata": {},
   "outputs": [
    {
     "data": {
      "text/plain": [
       "0.0"
      ]
     },
     "execution_count": 33,
     "metadata": {},
     "output_type": "execute_result"
    }
   ],
   "source": [
    "# Percentage of 5 a week\n",
    "fiveDaysDF = (rawSportsBettingDF[\"How many times a week do you bet on that sport?\"] == 5).sum()\n",
    "fiveDaysDF/lengthRawSportsBettingDF"
   ]
  },
  {
   "cell_type": "code",
   "execution_count": 34,
   "metadata": {},
   "outputs": [
    {
     "data": {
      "text/plain": [
       "0.0"
      ]
     },
     "execution_count": 34,
     "metadata": {},
     "output_type": "execute_result"
    }
   ],
   "source": [
    "# Percentage of 6 a week\n",
    "sixDaysDF = (rawSportsBettingDF[\"How many times a week do you bet on that sport?\"] == 6).sum()\n",
    "sixDaysDF/lengthRawSportsBettingDF"
   ]
  },
  {
   "cell_type": "code",
   "execution_count": 35,
   "metadata": {},
   "outputs": [
    {
     "data": {
      "text/plain": [
       "0.1"
      ]
     },
     "execution_count": 35,
     "metadata": {},
     "output_type": "execute_result"
    }
   ],
   "source": [
    "# Percentage of 7 a week\n",
    "sevenDaysDF = (rawSportsBettingDF[\"How many times a week do you bet on that sport?\"] == 7).sum()\n",
    "sevenDaysDF/lengthRawSportsBettingDF"
   ]
  },
  {
   "cell_type": "markdown",
   "metadata": {},
   "source": [
    "A5:\n",
    "- 30% bet on their preferred sport once a week\n",
    "- 10% bet on their preferred sport twice a week\n",
    "- 30% bet on their preferred sport three times a week\n",
    "- 20% bet on their preferred sport four times a week\n",
    "- 0% bet on their preferred sport five times a week\n",
    "- 0% bet on their preferred sport six times a week\n",
    "- 10% bet on their preferred sport seven times a week"
   ]
  },
  {
   "cell_type": "markdown",
   "metadata": {},
   "source": [
    "Q6: What is the percentage of people that use a certain platform to place bets in?"
   ]
  },
  {
   "cell_type": "code",
   "execution_count": 36,
   "metadata": {},
   "outputs": [
    {
     "data": {
      "text/plain": [
       "0.7"
      ]
     },
     "execution_count": 36,
     "metadata": {},
     "output_type": "execute_result"
    }
   ],
   "source": [
    "# Percentage of PrizePicks\n",
    "prizePicksDF = (rawSportsBettingDF[\"What platform do you use most frequently to bet on?\"] == \"PrizePicks\").sum()\n",
    "prizePicksDF/lengthRawSportsBettingDF"
   ]
  },
  {
   "cell_type": "code",
   "execution_count": 37,
   "metadata": {},
   "outputs": [
    {
     "data": {
      "text/plain": [
       "0.1"
      ]
     },
     "execution_count": 37,
     "metadata": {},
     "output_type": "execute_result"
    }
   ],
   "source": [
    "# Percentage of Underdog\n",
    "underdogDF = (rawSportsBettingDF[\"What platform do you use most frequently to bet on?\"] == \"Underdog\").sum()\n",
    "underdogDF/lengthRawSportsBettingDF"
   ]
  },
  {
   "cell_type": "code",
   "execution_count": 38,
   "metadata": {},
   "outputs": [
    {
     "data": {
      "text/plain": [
       "0.0"
      ]
     },
     "execution_count": 38,
     "metadata": {},
     "output_type": "execute_result"
    }
   ],
   "source": [
    "# Percentage of DraftKings \n",
    "draftKingsDF = (rawSportsBettingDF[\"What platform do you use most frequently to bet on?\"] == \"DraftKings\").sum()\n",
    "draftKingsDF/lengthRawSportsBettingDF"
   ]
  },
  {
   "cell_type": "code",
   "execution_count": 39,
   "metadata": {},
   "outputs": [
    {
     "data": {
      "text/plain": [
       "0.0"
      ]
     },
     "execution_count": 39,
     "metadata": {},
     "output_type": "execute_result"
    }
   ],
   "source": [
    "# Percentage of FanDuel\n",
    "fanDuelDF = (rawSportsBettingDF[\"What platform do you use most frequently to bet on?\"] == \"FanDuel\").sum()\n",
    "fanDuelDF/lengthRawSportsBettingDF"
   ]
  },
  {
   "cell_type": "code",
   "execution_count": 40,
   "metadata": {},
   "outputs": [
    {
     "data": {
      "text/plain": [
       "0.0"
      ]
     },
     "execution_count": 40,
     "metadata": {},
     "output_type": "execute_result"
    }
   ],
   "source": [
    "# Percentage of Caesars\n",
    "caesarsDF = (rawSportsBettingDF[\"What platform do you use most frequently to bet on?\"] == \"Caesars\").sum()\n",
    "caesarsDF/lengthRawSportsBettingDF"
   ]
  },
  {
   "cell_type": "code",
   "execution_count": 41,
   "metadata": {},
   "outputs": [
    {
     "data": {
      "text/plain": [
       "0.0"
      ]
     },
     "execution_count": 41,
     "metadata": {},
     "output_type": "execute_result"
    }
   ],
   "source": [
    "# Percentage of ESPN Bet\n",
    "espnBetDF = (rawSportsBettingDF[\"What platform do you use most frequently to bet on?\"] == \"ESPN Bet\").sum()\n",
    "espnBetDF/lengthRawSportsBettingDF"
   ]
  },
  {
   "cell_type": "code",
   "execution_count": 87,
   "metadata": {},
   "outputs": [
    {
     "data": {
      "text/plain": [
       "0.2"
      ]
     },
     "execution_count": 87,
     "metadata": {},
     "output_type": "execute_result"
    }
   ],
   "source": [
    "# Percentage of BetMGM\n",
    "betMGMDF = (rawSportsBettingDF[\"What platform do you use most frequently to bet on?\"] == \"BetMGM\").sum()\n",
    "betMGMDF/lengthRawSportsBettingDF"
   ]
  },
  {
   "cell_type": "markdown",
   "metadata": {},
   "source": [
    "A6:\n",
    "- 70% use PrizePicks to place their bets in \n",
    "- 10% use Underdog to place their bets in\n",
    "- 0% use DraftKings to place their bets in\n",
    "- 0% use FanDuel to place their bets in\n",
    "- 0% use Caesars to place their bets in\n",
    "- 0% use ESPN Bet to place their bets in\n",
    "- 20% use BetMGM to place their bets in\n",
    "\n"
   ]
  },
  {
   "cell_type": "markdown",
   "metadata": {},
   "source": [
    "Q7: Percentage of \"Why do you feel most confident in your chosen sport to bet on?\""
   ]
  },
  {
   "cell_type": "code",
   "execution_count": 88,
   "metadata": {},
   "outputs": [
    {
     "data": {
      "text/plain": [
       "0.1"
      ]
     },
     "execution_count": 88,
     "metadata": {},
     "output_type": "execute_result"
    }
   ],
   "source": [
    "# Percentage of preferred sport to watch\n",
    "preferredSPortToWatchDF = (rawSportsBettingDF[\"Why do you feel most confident in your chosen sport to bet on?\"] == \"Preferred sport to watch\").sum()\n",
    "preferredSPortToWatchDF/lengthRawSportsBettingDF"
   ]
  },
  {
   "cell_type": "code",
   "execution_count": 89,
   "metadata": {},
   "outputs": [
    {
     "data": {
      "text/plain": [
       "0.6"
      ]
     },
     "execution_count": 89,
     "metadata": {},
     "output_type": "execute_result"
    }
   ],
   "source": [
    "# Percentage of games are easier to analyze\n",
    "gamesEasierToAnalyzeDF = (rawSportsBettingDF[\"Why do you feel most confident in your chosen sport to bet on?\"] == \"Games are easier to analyze\").sum()\n",
    "gamesEasierToAnalyzeDF/lengthRawSportsBettingDF "
   ]
  },
  {
   "cell_type": "code",
   "execution_count": 90,
   "metadata": {},
   "outputs": [
    {
     "data": {
      "text/plain": [
       "0.2"
      ]
     },
     "execution_count": 90,
     "metadata": {},
     "output_type": "execute_result"
    }
   ],
   "source": [
    "# Percentage of wider variety of props to choose from\n",
    "wideVarietyOfPropsDF = (rawSportsBettingDF[\"Why do you feel most confident in your chosen sport to bet on?\"] == \"Wider variety of props to choose from\").sum()\n",
    "wideVarietyOfPropsDF/lengthRawSportsBettingDF "
   ]
  },
  {
   "cell_type": "code",
   "execution_count": 91,
   "metadata": {},
   "outputs": [
    {
     "data": {
      "text/plain": [
       "0.1"
      ]
     },
     "execution_count": 91,
     "metadata": {},
     "output_type": "execute_result"
    }
   ],
   "source": [
    "# Percentage of favorite team plays in that sport\n",
    "favoriteTeamPlaysDF = (rawSportsBettingDF[\"Why do you feel most confident in your chosen sport to bet on?\"] == \"Favorite team plays in that sport\").sum()\n",
    "favoriteTeamPlaysDF/lengthRawSportsBettingDF"
   ]
  },
  {
   "cell_type": "code",
   "execution_count": 92,
   "metadata": {},
   "outputs": [
    {
     "data": {
      "text/plain": [
       "0.0"
      ]
     },
     "execution_count": 92,
     "metadata": {},
     "output_type": "execute_result"
    }
   ],
   "source": [
    "# Percentage of sport is played more frequently than others\n",
    "sportPlayedMoreFrequentlyDF = (rawSportsBettingDF[\"Why do you feel most confident in your chosen sport to bet on?\"] == \"Sport is played more frequently than others\").sum()\n",
    "sportPlayedMoreFrequentlyDF/lengthRawSportsBettingDF"
   ]
  },
  {
   "cell_type": "markdown",
   "metadata": {},
   "source": [
    "A7:\n",
    "- 10% answered they are most confident in the sport they bet on because it is their preferred sport to watch\n",
    "- 60% answered they are most confident in the sport they bet on because games are easier to analyze\n",
    "- 20% answered they are most confident in the sport they bet on because wide variety of props to choose from\n",
    "- 10% answered they are most confident in the sport they bet on because their favorite team plays that sport\n",
    "- 0% answered they are most confident in the sport they bet on because it is played more frequently than others "
   ]
  },
  {
   "cell_type": "markdown",
   "metadata": {},
   "source": [
    "Q8: Percentage of \"Why do you bet the chosen number of times a week?\""
   ]
  },
  {
   "cell_type": "code",
   "execution_count": 93,
   "metadata": {},
   "outputs": [
    {
     "data": {
      "text/plain": [
       "0.3"
      ]
     },
     "execution_count": 93,
     "metadata": {},
     "output_type": "execute_result"
    }
   ],
   "source": [
    "# Percentage of multiple games a week in that sport to bet on\n",
    "multipleGamesAWeekDF = (rawSportsBettingDF[\"Why do you bet the chosen number of times a week?\"] == \"Multiple games a week in that sport to bet on\").sum()\n",
    "multipleGamesAWeekDF/lengthRawSportsBettingDF"
   ]
  },
  {
   "cell_type": "code",
   "execution_count": 94,
   "metadata": {},
   "outputs": [
    {
     "data": {
      "text/plain": [
       "0.1"
      ]
     },
     "execution_count": 94,
     "metadata": {},
     "output_type": "execute_result"
    }
   ],
   "source": [
    "# Percentage of day specific promotions\n",
    "daySPecificPromoDF = (rawSportsBettingDF[\"Why do you bet the chosen number of times a week?\"] == \"Day specific promotions\").sum()\n",
    "daySPecificPromoDF/lengthRawSportsBettingDF"
   ]
  },
  {
   "cell_type": "code",
   "execution_count": 95,
   "metadata": {},
   "outputs": [
    {
     "data": {
      "text/plain": [
       "0.0"
      ]
     },
     "execution_count": 95,
     "metadata": {},
     "output_type": "execute_result"
    }
   ],
   "source": [
    "# Percentage of gambling addiction\n",
    "gamblingAddicitonDF = (rawSportsBettingDF[\"Why do you bet the chosen number of times a week?\"] == \"Gambling Addiction\").sum()\n",
    "gamblingAddicitonDF/lengthRawSportsBettingDF"
   ]
  },
  {
   "cell_type": "code",
   "execution_count": 96,
   "metadata": {},
   "outputs": [
    {
     "data": {
      "text/plain": [
       "0.4"
      ]
     },
     "execution_count": 96,
     "metadata": {},
     "output_type": "execute_result"
    }
   ],
   "source": [
    "# Percentage of want to earn more money\n",
    "earnMoreMoneyDF = (rawSportsBettingDF[\"Why do you bet the chosen number of times a week?\"] == \"Want to earn more money\").sum()\n",
    "earnMoreMoneyDF/lengthRawSportsBettingDF"
   ]
  },
  {
   "cell_type": "code",
   "execution_count": 97,
   "metadata": {},
   "outputs": [
    {
     "data": {
      "text/plain": [
       "0.1"
      ]
     },
     "execution_count": 97,
     "metadata": {},
     "output_type": "execute_result"
    }
   ],
   "source": [
    "# Percentage of bragging rights\n",
    "braggingRightsDF = (rawSportsBettingDF[\"Why do you bet the chosen number of times a week?\"] == \"Bragging Rights\").sum()\n",
    "braggingRightsDF/lengthRawSportsBettingDF"
   ]
  },
  {
   "cell_type": "code",
   "execution_count": 98,
   "metadata": {},
   "outputs": [
    {
     "data": {
      "text/plain": [
       "0.1"
      ]
     },
     "execution_count": 98,
     "metadata": {},
     "output_type": "execute_result"
    }
   ],
   "source": [
    "# Percentage of it's fun\n",
    "itsFunDF = (rawSportsBettingDF[\"Why do you bet the chosen number of times a week?\"] == \"It's fun\").sum()\n",
    "itsFunDF/lengthRawSportsBettingDF"
   ]
  },
  {
   "cell_type": "markdown",
   "metadata": {},
   "source": [
    "A8:\n",
    "- 30% answered they bet the chosen number times a week because of multiple games in a week to bet on\n",
    "- 10% answered they bet the chosen number times a week because of day specific promotions\n",
    "- 0%  answered they bet the chosen number times a week because of a gambling addiction\n",
    "- 40% answered they bet the chosen number times a week because of wanting to earn more money\n",
    "- 10% answered they bet the chosen number times a week because of wanting bragging rights\n",
    "- 10% answered they bet the chosen number times a week because it is fun"
   ]
  },
  {
   "cell_type": "markdown",
   "metadata": {},
   "source": [
    "Q9: Percentage of \"Why do you use the platform you chose?\""
   ]
  },
  {
   "cell_type": "code",
   "execution_count": 99,
   "metadata": {},
   "outputs": [
    {
     "data": {
      "text/plain": [
       "0.3"
      ]
     },
     "execution_count": 99,
     "metadata": {},
     "output_type": "execute_result"
    }
   ],
   "source": [
    "# Percentage of ease of access\n",
    "easeOfAccessDF = (rawSportsBettingDF[\"Why do you use the platform you chose?\"] == \"Ease of Access\").sum()\n",
    "easeOfAccessDF/lengthRawSportsBettingDF"
   ]
  },
  {
   "cell_type": "code",
   "execution_count": 100,
   "metadata": {},
   "outputs": [
    {
     "data": {
      "text/plain": [
       "0.4"
      ]
     },
     "execution_count": 100,
     "metadata": {},
     "output_type": "execute_result"
    }
   ],
   "source": [
    "# Percentage of better promos\n",
    "betterPromosDF = (rawSportsBettingDF[\"Why do you use the platform you chose?\"] == \"Better Promos\").sum()\n",
    "betterPromosDF/lengthRawSportsBettingDF"
   ]
  },
  {
   "cell_type": "code",
   "execution_count": 101,
   "metadata": {},
   "outputs": [
    {
     "data": {
      "text/plain": [
       "0.0"
      ]
     },
     "execution_count": 101,
     "metadata": {},
     "output_type": "execute_result"
    }
   ],
   "source": [
    "# Percentage of better odds\n",
    "betterOddsDF = (rawSportsBettingDF[\"Why do you use the platform you chose?\"] == \"Better Odds\").sum()\n",
    "betterOddsDF/lengthRawSportsBettingDF"
   ]
  },
  {
   "cell_type": "code",
   "execution_count": 102,
   "metadata": {},
   "outputs": [
    {
     "data": {
      "text/plain": [
       "0.2"
      ]
     },
     "execution_count": 102,
     "metadata": {},
     "output_type": "execute_result"
    }
   ],
   "source": [
    "# Percentage of better props\n",
    "betterPropsDF = (rawSportsBettingDF[\"Why do you use the platform you chose?\"] == \"Better Props\").sum()\n",
    "betterPropsDF/lengthRawSportsBettingDF"
   ]
  },
  {
   "cell_type": "code",
   "execution_count": 103,
   "metadata": {},
   "outputs": [
    {
     "data": {
      "text/plain": [
       "0.1"
      ]
     },
     "execution_count": 103,
     "metadata": {},
     "output_type": "execute_result"
    }
   ],
   "source": [
    "# Percentage of better money multiplier\n",
    "moneyMultiplierDF = (rawSportsBettingDF[\"Why do you use the platform you chose?\"] == \"Better Money Multiplier\").sum()\n",
    "moneyMultiplierDF/lengthRawSportsBettingDF"
   ]
  },
  {
   "cell_type": "code",
   "execution_count": 104,
   "metadata": {},
   "outputs": [
    {
     "data": {
      "text/plain": [
       "0.0"
      ]
     },
     "execution_count": 104,
     "metadata": {},
     "output_type": "execute_result"
    }
   ],
   "source": [
    "# Percentage of easier cash out\n",
    "easierCashOutDF = (rawSportsBettingDF[\"Why do you use the platform you chose?\"] == \"Easier Cash Out\").sum()\n",
    "easierCashOutDF/lengthRawSportsBettingDF"
   ]
  },
  {
   "cell_type": "markdown",
   "metadata": {},
   "source": [
    "A9:\n",
    "- 30% answered ease of access as to why they use the platform they chose\n",
    "- 40% answered better promos as to why they use the platform they chose\n",
    "- 0% answered better odds as to why they use the platform they chose\n",
    "- 20% answered better props as to why they use the platform they chose\n",
    "- 10% answered better money multiplier as to why they use the platform they chose\n",
    "- 0% answered easier cash out as to why they use the platform they chose"
   ]
  }
 ],
 "metadata": {
  "kernelspec": {
   "display_name": "base",
   "language": "python",
   "name": "python3"
  },
  "language_info": {
   "codemirror_mode": {
    "name": "ipython",
    "version": 3
   },
   "file_extension": ".py",
   "mimetype": "text/x-python",
   "name": "python",
   "nbconvert_exporter": "python",
   "pygments_lexer": "ipython3",
   "version": "3.11.5"
  }
 },
 "nbformat": 4,
 "nbformat_minor": 2
}
